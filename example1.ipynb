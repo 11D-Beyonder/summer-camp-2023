{
 "cells": [
  {
   "cell_type": "code",
   "execution_count": 1,
   "metadata": {},
   "outputs": [],
   "source": [
    "from qiskit.algorithms.minimum_eigensolvers import QAOA                             \n",
    "from qiskit.algorithms.optimizers import COBYLA\n",
    "from qiskit_aer.primitives import Sampler\n",
    "from qiskit_finance.applications.optimization import PortfolioOptimization\n",
    "from qiskit_finance.data_providers import RandomDataProvider\n",
    "from qiskit_optimization.algorithms import MinimumEigenOptimizer\n",
    "import datetime"
   ]
  },
  {
   "attachments": {},
   "cell_type": "markdown",
   "metadata": {},
   "source": [
    "$$\n",
    "\\begin{aligned}\n",
    "\\min_{x \\in \\{0, 1\\}^n}\\quad& q x^T \\Sigma x - \\mu^T x\\\\\n",
    "\\text{s.t.}\\quad& 1^T x = B\n",
    "\\end{aligned}\n",
    "$$\n",
    "\n",
    "定义基本的参数，构造数据。"
   ]
  },
  {
   "cell_type": "code",
   "execution_count": 2,
   "metadata": {},
   "outputs": [],
   "source": [
    "num_assets = 4\n",
    "data = RandomDataProvider(\n",
    "    tickers=[f\"TICKERS{i}\" for i in range(num_assets)],\n",
    "    start=datetime.datetime(2021, 11, 17),\n",
    "    end=datetime.datetime(2022, 11, 17),\n",
    ")\n",
    "data.run()\n",
    "mu = data.get_period_return_mean_vector()\n",
    "sigma = data.get_period_return_covariance_matrix()\n",
    "q = 0.5\n",
    "B = num_assets // 2"
   ]
  },
  {
   "attachments": {},
   "cell_type": "markdown",
   "metadata": {},
   "source": [
    "定义投资组合优化问题。"
   ]
  },
  {
   "cell_type": "code",
   "execution_count": 3,
   "metadata": {},
   "outputs": [],
   "source": [
    "problem = PortfolioOptimization(mu, sigma, q, B)"
   ]
  },
  {
   "attachments": {},
   "cell_type": "markdown",
   "metadata": {},
   "source": [
    "将原问题转化为一个二次规划问题。"
   ]
  },
  {
   "cell_type": "code",
   "execution_count": 4,
   "metadata": {},
   "outputs": [
    {
     "name": "stdout",
     "output_type": "stream",
     "text": [
      "minimize 0.000498218709983642*x_0^2 - 3.1882442775709215e-05*x_0*x_1 + 4.6815894582219884e-05*x_0*x_2 + 1.6916823931991134e-05*x_0*x_3 + 7.192580454970226e-05*x_1^2 - 1.6249923389122132e-06*x_1*x_2 - 1.2245202406628253e-05*x_1*x_3 + 8.931014235941896e-05*x_2^2 - 4.3173206849120785e-06*x_2*x_3 + 4.7759464933488466e-05*x_3^2 - 0.0015573186401921792*x_0 - 0.0008409042826572975*x_1 - 0.0008119046026683301*x_2 - 0.00018496957710585366*x_3 (4 variables, 1 constraints, 'Portfolio optimization')\n"
     ]
    }
   ],
   "source": [
    "quadratic_program = problem.to_quadratic_program()\n",
    "print(quadratic_program)"
   ]
  },
  {
   "attachments": {},
   "cell_type": "markdown",
   "metadata": {},
   "source": [
    "利用QAOA求解，得到投资方案。"
   ]
  },
  {
   "cell_type": "code",
   "execution_count": 5,
   "metadata": {},
   "outputs": [
    {
     "name": "stdout",
     "output_type": "stream",
     "text": [
      "fval=-0.0018599608510918417, x_0=1.0, x_1=1.0, x_2=0.0, x_3=0.0, status=SUCCESS\n"
     ]
    }
   ],
   "source": [
    "result = MinimumEigenOptimizer(QAOA(Sampler(), COBYLA())).solve(\n",
    "    quadratic_program\n",
    ")\n",
    "print(result)"
   ]
  },
  {
   "attachments": {},
   "cell_type": "markdown",
   "metadata": {},
   "source": [
    "输出全部的可能方案，得到满足约束方案的概率大。"
   ]
  },
  {
   "cell_type": "code",
   "execution_count": 6,
   "metadata": {},
   "outputs": [
    {
     "name": "stdout",
     "output_type": "stream",
     "text": [
      "投资方案\t\t概率\t目标函数值\n",
      "[1, 0, 1, 0]\t0.1465\t-0.001735\n",
      "[1, 1, 0, 0]\t0.1309\t-0.001860\n",
      "[1, 0, 0, 1]\t0.1221\t-0.001179\n",
      "[0, 1, 1, 0]\t0.1201\t-0.001493\n",
      "[0, 1, 0, 1]\t0.0977\t-0.000918\n",
      "[0, 0, 1, 1]\t0.0967\t-0.000864\n",
      "[0, 0, 0, 0]\t0.0762\t0.000000\n",
      "[1, 1, 1, 1]\t0.0674\t-0.002674\n",
      "[0, 1, 0, 0]\t0.0225\t-0.000769\n",
      "[1, 0, 0, 0]\t0.0225\t-0.001059\n",
      "[0, 0, 0, 1]\t0.0215\t-0.000137\n",
      "[1, 0, 1, 1]\t0.0215\t-0.001859\n",
      "[1, 1, 1, 0]\t0.0166\t-0.002537\n",
      "[0, 1, 1, 1]\t0.0137\t-0.001647\n",
      "[1, 1, 0, 1]\t0.0137\t-0.001992\n",
      "[0, 0, 1, 0]\t0.0107\t-0.000723\n"
     ]
    }
   ],
   "source": [
    "print(\"投资方案\\t\\t概率\\t目标函数值\")\n",
    "for (\n",
    "    k,\n",
    "    v,\n",
    ") in sorted(\n",
    "    result.min_eigen_solver_result.eigenstate.binary_probabilities().items(),\n",
    "    key=lambda x: x[1],\n",
    "    reverse=True,\n",
    "):\n",
    "    x = [int(i) for i in list(reversed(k))]\n",
    "    print(\n",
    "        f\"{x}\\t{v:.4f}\\t{problem.to_quadratic_program().objective.evaluate(x):.6f}\"\n",
    "    )"
   ]
  }
 ],
 "metadata": {
  "kernelspec": {
   "display_name": "summer-camp-qf-2023",
   "language": "python",
   "name": "python3"
  },
  "language_info": {
   "codemirror_mode": {
    "name": "ipython",
    "version": 3
   },
   "file_extension": ".py",
   "mimetype": "text/x-python",
   "name": "python",
   "nbconvert_exporter": "python",
   "pygments_lexer": "ipython3",
   "version": "3.10.11"
  },
  "orig_nbformat": 4
 },
 "nbformat": 4,
 "nbformat_minor": 2
}
